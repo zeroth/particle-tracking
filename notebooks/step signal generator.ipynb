{
 "cells": [
  {
   "cell_type": "code",
   "execution_count": 10,
   "id": "b9699675",
   "metadata": {},
   "outputs": [],
   "source": [
    "%matplotlib qt\n",
    "import matplotlib.pyplot as plt\n",
    "import numpy as np"
   ]
  },
  {
   "cell_type": "code",
   "execution_count": 32,
   "id": "78c9662d",
   "metadata": {},
   "outputs": [],
   "source": [
    "def step_sim(number_of_steps = 10, total_time_point=400, std_noise = 10, min_signal = 100, max_signal = 1000 ):\n",
    "    np.random.seed(42)\n",
    "    _range = total_time_point+1\n",
    "    def get_rand_signal(val):\n",
    "        low:int = val - (val*0.1)\n",
    "        high:int = val + (val*0.1)\n",
    "        return np.random.randint(low=low, high=high, size=1)\n",
    "    \n",
    "    def logic_generator():\n",
    "        conditions = []\n",
    "        functions = []\n",
    "        range_list = list(range(min_signal, max_signal, ((max_signal-min_signal)//number_of_steps)))\n",
    "        for i, signal_range in enumerate(range_list):\n",
    "            if i == 0:\n",
    "                # first\n",
    "                conditions.append( np.arange(1, _range) < get_rand_signal(signal_range) )\n",
    "                functions.append( lambda x: get_rand_signal(max_signal-min_signal/2))\n",
    "                continue\n",
    "            elif i == len(range_list) -1:\n",
    "                # last\n",
    "                functions.append( lambda x: get_rand_signal(max_signal/2))\n",
    "                conditions.append(np.arange(1, _range) >= get_rand_signal(signal_range) )\n",
    "                return conditions, functions\n",
    "            \n",
    "            functions.append( lambda x: get_rand_signal(max_signal-min_signal/2 ) )\n",
    "            conditions.append( np.logical_and( np.arange(1, _range) >= get_rand_signal(range_list[i-1]), \n",
    "                                              np.arange(1, _range) < get_rand_signal(range_list[i]) ) )\n",
    "    \n",
    "    conditions, functions = logic_generator()\n",
    "    steps = np.piecewise(np.arange(1, _range), conditions, functions)\n",
    "    x = np.arange(1, _range)\n",
    "    noise_STD = std_noise \n",
    "    noise = np.random.normal(scale=noise_STD, size=len(x))\n",
    "    # y = true_fct + np.random.standard_t(1, size=len(x))\n",
    "    y = steps + noise\n",
    "    return x, y, steps"
   ]
  },
  {
   "cell_type": "code",
   "execution_count": 33,
   "id": "8052c78f",
   "metadata": {},
   "outputs": [
    {
     "data": {
      "text/plain": [
       "[<matplotlib.lines.Line2D at 0x18c819fc940>]"
      ]
     },
     "execution_count": 33,
     "metadata": {},
     "output_type": "execute_result"
    }
   ],
   "source": [
    "x_data, y_data , steps = step_sim(total_time_point=1000, max_signal=2000)\n",
    "plt.plot(x_data, y_data, '-b', label=\"noise\")\n",
    "plt.plot(x_data, steps, '-r', linewidth=1, label=\"raw\")"
   ]
  },
  {
   "cell_type": "code",
   "execution_count": null,
   "id": "a46d055c",
   "metadata": {},
   "outputs": [],
   "source": []
  }
 ],
 "metadata": {
  "kernelspec": {
   "display_name": "Python 3 (ipykernel)",
   "language": "python",
   "name": "python3"
  },
  "language_info": {
   "codemirror_mode": {
    "name": "ipython",
    "version": 3
   },
   "file_extension": ".py",
   "mimetype": "text/x-python",
   "name": "python",
   "nbconvert_exporter": "python",
   "pygments_lexer": "ipython3",
   "version": "3.9.16"
  }
 },
 "nbformat": 4,
 "nbformat_minor": 5
}
