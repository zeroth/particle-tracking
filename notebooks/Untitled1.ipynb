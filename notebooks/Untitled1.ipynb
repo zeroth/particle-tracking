{
 "cells": [
  {
   "cell_type": "code",
   "execution_count": 6,
   "id": "2227331f",
   "metadata": {},
   "outputs": [],
   "source": [
    "# !matplotlib notebook\n",
    "import matplotlib.pyplot as plt\n",
    "from skimage import data\n",
    "from skimage.exposure import histogram\n",
    "import tifffile\n",
    "import os\n",
    "import sys\n",
    "from skimage import data, feature, exposure\n",
    "import numpy as np\n",
    "from skimage.filters import median, sobel\n",
    "import napari\n",
    "\n",
    "path = \"E:\\\\Sudipta\\\\Arpan\"\n",
    "file_name = \"send-1.tif\""
   ]
  },
  {
   "cell_type": "code",
   "execution_count": 7,
   "id": "c51ead87",
   "metadata": {},
   "outputs": [],
   "source": [
    "def scale_to(x,  dtype):\n",
    "    r = np.max(x) - np.min(x)\n",
    "    try:\n",
    "        t_max = np.iinfo(np.dtype(dtype)).max\n",
    "    except:\n",
    "        t_max = np.finfo(np.dtype(dtype)).max\n",
    "    \n",
    "    # assert(math.isclose(0,r, abs_tol=np.finfo(float).eps) == False)\n",
    "    x_s =  ((x - np.min(x)) / r) * t_max\n",
    "    return x_s.astype(dtype)\n",
    "\n",
    "def scale_to_float(x,  dtype_in):\n",
    "#     r = np.max(x) - np.min(x)\n",
    "    try:\n",
    "        i_min = np.iinfo(np.dtype(dtype_in)).min\n",
    "        i_max = np.iinfo(np.dtype(dtype_in)).max\n",
    "    except:\n",
    "        i_min = np.finfo(np.dtype(dtype_in)).min\n",
    "        i_max = np.finfo(np.dtype(dtype_in)).max\n",
    "    \n",
    "    r = i_max -i_min\n",
    "    return (x - i_min)/r\n",
    "    \n",
    "    # assert(math.isclose(0,r, abs_tol=np.finfo(float).eps) == False)\n",
    "#     x_s =  ((x - np.min(x)) / r) * t_max\n",
    "#     return x_s.astype(dtype)\n",
    "\n",
    "def subtract(a, b, dtype='uint16'):\n",
    "    try:\n",
    "        t_min = np.iinfo(np.dtype(dtype)).min\n",
    "        t_max = np.iinfo(np.dtype(dtype)).max\n",
    "    except:\n",
    "        t_min = np.finfo(np.dtype(dtype)).min\n",
    "        t_max = np.finfo(np.dtype(dtype)).max        \n",
    "    return np.clip(a.astype('int32') - b, t_min, t_max).astype(a.dtype)\n",
    "\n",
    "def top_hat(image, radius=50, light_bg=False):\n",
    "        from skimage.morphology import white_tophat, black_tophat, disk\n",
    "        str_el = disk(radius) #you can also use 'ball' here to get a slightly smoother result at the cost of increased computing time\n",
    "        if light_bg:\n",
    "            return  scale_to(black_tophat(image, str_el), image.dtype)\n",
    "        else:\n",
    "            return  scale_to(white_tophat(image, str_el), image.dtype)\n",
    "\n",
    "def thresholdV2(image, param=10):\n",
    "    from skimage.filters import threshold_otsu\n",
    "    dtype = image.dtype\n",
    "    thresh = threshold_otsu(image)\n",
    "    \n",
    "    return image > thresh\n",
    "\n",
    "def threshold(image, param=10):\n",
    "    from skimage.filters import threshold_otsu\n",
    "    dtype = image.dtype\n",
    "    thresh = threshold_otsu(image)\n",
    "    \n",
    "    return thresh, subtract(image, thresh, image.dtype)\n",
    "\n",
    "def dspeckle(image, param=10):\n",
    "    from skimage.filters import median\n",
    "    dtype = image.dtype\n",
    "    return median(image)\n",
    "    \n",
    "\n",
    "def gaussian_filter(image, param=10):\n",
    "    from skimage.filters import gaussian\n",
    "    return scale_to(gaussian(image), image.dtype)\n",
    "\n",
    "\n",
    "def plot_multi(images):\n",
    "    fig, ax = plt.subplots(ncols=len(images), figsize=(20, 8))\n",
    "    for i, image in enumerate(images.items()):\n",
    "        ax[i].set_title(str(image[0]))\n",
    "        ax[i].imshow(image[1], clim=[np.min(image[1]), np.max(image[1])], cmap='gray')\n",
    "    plt.show()\n",
    "\n",
    "def save_images(images, pre_fix=\"img\"):\n",
    "    os.makedirs(os.path.join(path,pre_fix), exist_ok=True)\n",
    "    for key, img in images.items():\n",
    "        p = os.path.join(path,pre_fix, f\"{key}_image.tif\")\n",
    "        print()\n",
    "        tifffile.imwrite(p, img)"
   ]
  },
  {
   "cell_type": "code",
   "execution_count": 8,
   "id": "94d57cc4",
   "metadata": {},
   "outputs": [],
   "source": [
    "viewer = napari.Viewer()"
   ]
  },
  {
   "cell_type": "code",
   "execution_count": 9,
   "id": "7df0d547",
   "metadata": {},
   "outputs": [
    {
     "data": {
      "text/plain": [
       "<Image layer 'main' at 0x28f46b94be0>"
      ]
     },
     "execution_count": 9,
     "metadata": {},
     "output_type": "execute_result"
    }
   ],
   "source": [
    "data = tifffile.imread(os.path.join(path, \"send-1.tif\"))\n",
    "image = data[157]\n",
    "viewer.add_image(image, name=\"main\")"
   ]
  },
  {
   "cell_type": "code",
   "execution_count": 31,
   "id": "48581a01",
   "metadata": {},
   "outputs": [
    {
     "name": "stdout",
     "output_type": "stream",
     "text": [
      "uint16\n",
      "257.84430298662824\n",
      "12352\n"
     ]
    }
   ],
   "source": [
    "\n",
    "def get_point2d(image):\n",
    "    _,threshold_img = threshold(image)\n",
    "    dspeckle_img = dspeckle(threshold_img)\n",
    "    gaussian_image = gaussian_filter(dspeckle_img)\n",
    "    _,gaussian_threshold_img = threshold(gaussian_image)\n",
    "    top_hat_img = top_hat(gaussian_threshold_img)\n",
    "    _, top_hat_thres_img = threshold(top_hat_img)\n",
    "    median_img = scale_to(median(top_hat_thres_img), top_hat_thres_img.dtype)\n",
    "    return scale_to(sobel(median_img), median_img.dtype)\n",
    "\n",
    "im = get_point2d(image)\n",
    "print(im.dtype)\n",
    "print(np.mean(im))\n",
    "t, im_th = threshold(im)\n",
    "print(t)\n",
    "\n",
    "# viewer.add_image(im, name=\"result\")\n",
    "# viewer.add_image(im_th, name=\"result_threshol\")\n",
    "# im_b = im_th > 0\n",
    "# im_b_t = im_b\n",
    "# im_b_t = im_b_t.astype('uint8')\n",
    "# im_b_t[im_b == False] = 0\n",
    "# im_b_t[im_b == True] = 255\n",
    "# print(im_b_t[110, 68])\n",
    "# viewer.add_image(im_b_t, name=\"binary\")\n",
    "# from scipy import ndimage\n",
    "# im_b = ndimage.binary_fill_holes(im_b_t).astype('uint8')\n",
    "\n",
    "# viewer.add_image(im_b, name=\"mask\")"
   ]
  },
  {
   "cell_type": "code",
   "execution_count": null,
   "id": "ae190a1d",
   "metadata": {},
   "outputs": [],
   "source": []
  }
 ],
 "metadata": {
  "kernelspec": {
   "display_name": "Python 3 (ipykernel)",
   "language": "python",
   "name": "python3"
  },
  "language_info": {
   "codemirror_mode": {
    "name": "ipython",
    "version": 3
   },
   "file_extension": ".py",
   "mimetype": "text/x-python",
   "name": "python",
   "nbconvert_exporter": "python",
   "pygments_lexer": "ipython3",
   "version": "3.9.16"
  }
 },
 "nbformat": 4,
 "nbformat_minor": 5
}
