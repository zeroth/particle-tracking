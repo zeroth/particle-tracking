{
 "cells": [
  {
   "cell_type": "code",
   "execution_count": null,
   "id": "25fe0760",
   "metadata": {},
   "outputs": [],
   "source": [
    "%matplotlib qt\n",
    "import matplotlib.pyplot as plt\n",
    "import numpy as np\n",
    "from scipy.special import expit\n",
    "from scipy.optimize import curve_fit\n"
   ]
  },
  {
   "cell_type": "code",
   "execution_count": 43,
   "id": "0600d1fa",
   "metadata": {},
   "outputs": [
    {
     "data": {
      "text/plain": [
       "[<matplotlib.lines.Line2D at 0x127ad3ae1f0>]"
      ]
     },
     "execution_count": 43,
     "metadata": {},
     "output_type": "execute_result"
    }
   ],
   "source": [
    "def step_sim(step_size = 8.0, SNR = 0.5, total_time_point=401):\n",
    "    np.random.seed(20181118)\n",
    "    \n",
    "    steps = np.piecewise(np.arange(1, total_time_point), \n",
    "                            [\n",
    "                                np.arange(1, total_time_point) < 100, \n",
    "\n",
    "                                np.logical_and(np.arange(1, total_time_point) >= 100, np.arange(1, total_time_point) < 200), \n",
    "\n",
    "                                np.logical_and(np.arange(1, total_time_point) >= 200, np.arange(1, total_time_point) < 250), \n",
    "                                \n",
    "                                np.logical_and(np.arange(1, total_time_point) >= 250, np.arange(1, total_time_point) < 350), \n",
    "                                \n",
    "                                np.logical_and(np.arange(1, total_time_point) >= 350, np.arange(1, total_time_point) < 500), \n",
    "\n",
    "                                np.arange(1, total_time_point) >= 500\n",
    "                            ], \n",
    "                            [\n",
    "                                lambda x: 300, \n",
    "                                lambda x: 100, \n",
    "                                lambda x: 50, \n",
    "                                lambda x: 350,\n",
    "                                lambda x: 20,\n",
    "                                lambda x: 350,\n",
    "                            ])\n",
    "    x = np.arange(1, total_time_point)\n",
    "    noise_STD = step_size / SNR\n",
    "    noise = np.random.normal(scale=noise_STD, size=len(x))\n",
    "    # y = true_fct + np.random.standard_t(1, size=len(x))\n",
    "    y = steps + noise\n",
    "    return x, y, steps\n",
    "\n",
    "\n",
    "\n",
    "x_data, y_data , steps = step_sim(total_time_point=601)\n",
    "plt.plot(x_data, y_data, '-b', label=\"noise\")\n",
    "plt.plot(x_data, steps, '-r', linewidth=1, label=\"raw\")"
   ]
  },
  {
   "cell_type": "code",
   "execution_count": 42,
   "id": "bcc22d22",
   "metadata": {},
   "outputs": [
    {
     "name": "stderr",
     "output_type": "stream",
     "text": [
      "C:\\Users\\CellphyLab\\AppData\\Local\\Temp\\ipykernel_21512\\130051023.py:10: RuntimeWarning: overflow encountered in exp\n",
      "  y = L / (1 + np.exp(-k*(x-x0))) + b\n"
     ]
    },
    {
     "data": {
      "text/plain": [
       "(349.63737776470424,\n",
       " -67.7467421796568,\n",
       " (76.15523012908508, 220.76202117354717))"
      ]
     },
     "execution_count": 42,
     "metadata": {},
     "output_type": "execute_result"
    }
   ],
   "source": [
    "from scipy.optimize import curve_fit\n",
    "\n",
    "def get_step_location_size(x, y, adust_location=0):\n",
    "    # Heaviside step function\n",
    "    # def step_fun(x,a,b,c): return a * (np.sign(x-b) + c)\n",
    "    # p0=[np.max(y), np.median(x), np.min(y)]\n",
    "\n",
    "    # Logistic function\n",
    "    def step_fun(x, step_size ,location, k, b):\n",
    "        y = step_size / (1 + np.exp(-k*(x-location))) + b\n",
    "        return (y)\n",
    "\n",
    "    # p0 = [ np.max(y_data),1,np.min(y_data)]\n",
    "    p0=[np.max(y), np.median(x),1, np.min(y)]\n",
    "\n",
    "\n",
    "    popt, pcov, infodict, mesg, ier = curve_fit(step_fun, x, y,p0=p0, full_output=True, maxfev = 10000)\n",
    "    fitted_data = step_fun(x, *popt)\n",
    "\n",
    "    # popt : [-97.86263752  99.1317172  -18.4030292  195.17399986]\n",
    "    # value was going from 100 to 200\n",
    "    step_size , location, k, b = popt\n",
    "    return location + adust_location, step_size, (k,b)\n",
    "get_step_location_size(x_data, y_data)"
   ]
  },
  {
   "cell_type": "code",
   "execution_count": null,
   "id": "97e1736f",
   "metadata": {},
   "outputs": [],
   "source": [
    "def step_generator(x, y):\n",
    "    step_adjust = 0\n",
    "    location, step_size = get_step_location_size(x, y)\n",
    "    left_section = y[:int(location)-1]\n",
    "    right_section = y[int(location):]\n",
    "    next_section = None\n",
    "    if (abs(step_size) * np.sqrt(len(left_section)) ) > (abs(step_size) * np.sqrt(len(right_section)) ):\n",
    "        next_section = left_section\n",
    "    else: \n",
    "        next_section = right_section\n",
    "\n"
   ]
  },
  {
   "cell_type": "code",
   "execution_count": 39,
   "id": "880d4e11",
   "metadata": {},
   "outputs": [
    {
     "data": {
      "text/plain": [
       "292.8390728211739"
      ]
     },
     "execution_count": 39,
     "metadata": {},
     "output_type": "execute_result"
    }
   ],
   "source": [
    "# step_generator(x_data, y_data)\n",
    "y_data[348] + (-67)"
   ]
  },
  {
   "cell_type": "code",
   "execution_count": 41,
   "id": "a47cf7a2",
   "metadata": {},
   "outputs": [
    {
     "data": {
      "text/plain": [
       "207.25406023852833"
      ]
     },
     "execution_count": 41,
     "metadata": {},
     "output_type": "execute_result"
    }
   ],
   "source": [
    "y_data[98] + (-97.86)"
   ]
  },
  {
   "cell_type": "code",
   "execution_count": null,
   "id": "d8f40902",
   "metadata": {},
   "outputs": [],
   "source": []
  }
 ],
 "metadata": {
  "kernelspec": {
   "display_name": "Python 3 (ipykernel)",
   "language": "python",
   "name": "python3"
  },
  "language_info": {
   "codemirror_mode": {
    "name": "ipython",
    "version": 3
   },
   "file_extension": ".py",
   "mimetype": "text/x-python",
   "name": "python",
   "nbconvert_exporter": "python",
   "pygments_lexer": "ipython3",
   "version": "3.9.16"
  }
 },
 "nbformat": 4,
 "nbformat_minor": 5
}
