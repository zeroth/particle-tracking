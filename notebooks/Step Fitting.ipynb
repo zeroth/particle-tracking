{
 "cells": [
  {
   "cell_type": "markdown",
   "id": "4c827bff",
   "metadata": {},
   "source": [
    "Notes\n",
    "    \n",
    "        \n",
    "- Heaviside step function\n",
    "- def step_fun(x,a,b,c): return a * (np.sign(x-b) + c)\n",
    "- p0=[np.max(y), np.median(x), np.min(y)]\n"
   ]
  },
  {
   "cell_type": "code",
   "execution_count": 1,
   "id": "23085a77",
   "metadata": {},
   "outputs": [
    {
     "name": "stdout",
     "output_type": "stream",
     "text": [
      "done\n"
     ]
    }
   ],
   "source": [
    "%matplotlib qt\n",
    "import matplotlib.pyplot as plt\n",
    "import numpy as np\n",
    "from scipy.special import expit\n",
    "from scipy.optimize import curve_fit\n",
    "from mplcursors import cursor\n",
    "print(\"done\")"
   ]
  },
  {
   "cell_type": "code",
   "execution_count": 2,
   "id": "174453b0",
   "metadata": {},
   "outputs": [
    {
     "name": "stdout",
     "output_type": "stream",
     "text": [
      "done\n"
     ]
    }
   ],
   "source": [
    "def step_sim(step_size = 8.0, SNR = 0.5, total_time_point=400):\n",
    "    np.random.seed(20181118)\n",
    "    \n",
    "    steps = np.piecewise(np.arange(0, total_time_point), \n",
    "                            [\n",
    "                                np.arange(0, total_time_point) < 99, \n",
    "\n",
    "                                np.logical_and(np.arange(0, total_time_point) >= 99, np.arange(0, total_time_point) < 199), \n",
    "\n",
    "                                np.logical_and(np.arange(0, total_time_point) >= 199, np.arange(0, total_time_point) < 249), \n",
    "                                \n",
    "                                np.logical_and(np.arange(0, total_time_point) >= 249, np.arange(0, total_time_point) < 349), \n",
    "                                \n",
    "                                np.logical_and(np.arange(0, total_time_point) >= 349, np.arange(0, total_time_point) < 499), \n",
    "\n",
    "                                np.arange(0, total_time_point) >= 499\n",
    "                            ], \n",
    "                            [\n",
    "                                lambda x: 300, \n",
    "                                lambda x: 100, \n",
    "                                lambda x: 50, \n",
    "                                lambda x: 350,\n",
    "                                lambda x: 20,\n",
    "                                lambda x: 350,\n",
    "                            ])\n",
    "    x = np.arange(0, total_time_point)\n",
    "    noise_STD = step_size / SNR\n",
    "    noise = np.random.normal(scale=noise_STD, size=len(x))\n",
    "    # y = true_fct + np.random.standard_t(1, size=len(x))\n",
    "    y = steps + noise\n",
    "    return x, y, steps\n",
    "print(\"done\")"
   ]
  },
  {
   "cell_type": "code",
   "execution_count": 3,
   "id": "7af59f02",
   "metadata": {},
   "outputs": [
    {
     "name": "stdout",
     "output_type": "stream",
     "text": [
      "done\n"
     ]
    }
   ],
   "source": [
    "from scipy.optimize import curve_fit\n",
    "from dataclasses import dataclass\n",
    "\n",
    "def moving_average(a, n=2, pad=False) :\n",
    "    if pad:\n",
    "        a = np.pad(a, (n-1,0))\n",
    "    ret = np.cumsum(a, dtype=float)\n",
    "    ret[n:] = ret[n:] - ret[:-n]\n",
    "    return ret[n - 1:] / n\n",
    "\n",
    "@dataclass(repr=True)\n",
    "class StepInfo:\n",
    "    L:float\n",
    "    x0:int\n",
    "    k:float\n",
    "    b:float\n",
    "    location:float\n",
    "    x:np.ndarray\n",
    "    y:np.ndarray\n",
    "    sqrt_error:np.ndarray\n",
    "    \n",
    "\n",
    "def _step_fun(x, L ,x0, k, b):\n",
    "    # Logistic function\n",
    "    # f(X, L, x0, k, b)\n",
    "    # https://en.wikipedia.org/wiki/Logistic_function\n",
    "    # use for curve fitting\n",
    "    # https://stackoverflow.com/questions/55725139/fit-sigmoid-function-s-shape-curve-to-data-using-python\n",
    "    y = L / (1 + np.exp(-k*(x-x0))) + b\n",
    "    return y\n",
    "\n",
    "def get_step_location_size(x, y):\n",
    "    p0=[np.max(y), np.median(x),1, np.min(y)]\n",
    "    popt, pcov, infodict, mesg, ier = curve_fit(_step_fun, x, y,p0=p0, full_output=True, maxfev = 1000000)\n",
    "    L , x0, k, b = popt\n",
    "    sqrt_error = np.sqrt(infodict['fvec']**2)\n",
    "    location = x[np.where(sqrt_error==np.min(sqrt_error))[0][0]]\n",
    "    info = StepInfo(L , x0, k, b, location, x, y, sqrt_error)\n",
    "    return info\n",
    "\n",
    "def step_generator(x:np.ndarray, y:np.ndarray, steps:list, window_size_limit:int = 40):\n",
    "    info = get_step_location_size(x, y)\n",
    "    steps.append(info)\n",
    "    location_index = np.where(x == info.location)[0][0]\n",
    "    \n",
    "    left_x = x[:location_index]\n",
    "    left_y = y[:location_index]\n",
    "    if len(left_y)>window_size_limit:\n",
    "        step_generator(left_x, left_y, steps)\n",
    "        \n",
    "    right_x = x[location_index+1:]\n",
    "    right_y = y[location_index+1:]\n",
    "    if len(right_y)>window_size_limit:\n",
    "        step_generator(right_x, right_y, steps)\n",
    "\n",
    "# def step_generator(x:np.ndarray, y:np.ndarray, steps:list, counter_steps:list, is_counter=False, window_size_limit:int = 40):\n",
    "#     if not is_counter:\n",
    "#         info = get_step_location_size(x, y)\n",
    "#         steps.append(info)\n",
    "#     else:\n",
    "#         info = get_step_location_size(x, y)\n",
    "#         counter_steps.append(info)\n",
    "    \n",
    "#     if not is_counter:\n",
    "#         location_index = np.where(x == info.location)[0][0]\n",
    "\n",
    "#         left_x = x[:location_index]\n",
    "#         left_y = y[:location_index]\n",
    "#         if len(left_y)>window_size_limit:\n",
    "#             step_generator(x=left_x, y=left_y, steps=steps, counter_steps=counter_steps, is_counter=False, window_size_limit=window_size_limit)\n",
    "\n",
    "#         right_x = x[location_index+1:]\n",
    "#         right_y = y[location_index+1:]\n",
    "#         if len(right_y)>window_size_limit:\n",
    "#             step_generator(x=right_x, y=right_y, steps=steps, counter_steps=counter_steps, is_counter=False, window_size_limit=window_size_limit )\n",
    "\n",
    "\n",
    "#         counter_s =  np.where(x == left_x[len(left_x)//2])[0][0]\n",
    "#         counter_e =  np.where(x == right_x[len(right_x)//2])[0][0]\n",
    "#         counter_x = x[counter_s:counter_e]\n",
    "#         counter_y = y[counter_s:counter_e]\n",
    "#         if( len(counter_x) > window_size_limit):\n",
    "#             step_generator(x=counter_x, y=counter_y, steps=steps, counter_steps=counter_steps, is_counter=True, window_size_limit=window_size_limit)\n",
    "    \n",
    "def get_y_from_step_locations(steps, y):\n",
    "    # Generate the new steped data using the step locations and the orignal y data\n",
    "    new_y = np.zeros(shape=y.shape)\n",
    "    for index, s in enumerate(steps):\n",
    "        if index == 0:\n",
    "            new_y[0:s.location+1] = np.mean(y[0:s.location+1])\n",
    "        else:\n",
    "            pre_s = steps[index-1]\n",
    "            cur_s = steps[index]\n",
    "            new_y[pre_s.location +1:cur_s.location+1] = np.mean(y[pre_s.location +1:cur_s.location+1])\n",
    "    \n",
    "        if index == len(steps)-1:\n",
    "            new_y[s.location +1:] = np.mean(y[s.location +1:])\n",
    "    return new_y\n",
    "print(\"done\")"
   ]
  },
  {
   "cell_type": "code",
   "execution_count": 24,
   "id": "004c5ae9",
   "metadata": {},
   "outputs": [
    {
     "name": "stderr",
     "output_type": "stream",
     "text": [
      "C:\\Users\\CellphyLab\\AppData\\Local\\Temp\\ipykernel_14404\\3295757350.py:29: RuntimeWarning: overflow encountered in exp\n",
      "  y = L / (1 + np.exp(-k*(x-x0))) + b\n"
     ]
    }
   ],
   "source": [
    "x_data, y_data , steps_org = step_sim(total_time_point=600)\n",
    "\n",
    "step_info_list = []\n",
    "step_generator(x_data, y_data, step_info_list)\n",
    "step_info_list.sort(key=lambda x: x.location)\n",
    "\n",
    "\n",
    "new_y = get_y_from_step_locations(step_info_list, y_data)"
   ]
  },
  {
   "cell_type": "code",
   "execution_count": 25,
   "id": "381b93b1",
   "metadata": {},
   "outputs": [
    {
     "name": "stderr",
     "output_type": "stream",
     "text": [
      "C:\\Users\\CellphyLab\\AppData\\Local\\Temp\\ipykernel_14404\\3295757350.py:29: RuntimeWarning: overflow encountered in exp\n",
      "  y = L / (1 + np.exp(-k*(x-x0))) + b\n"
     ]
    }
   ],
   "source": [
    "step_info_list_new = []\n",
    "\n",
    "step_generator(x_data, new_y, step_info_list_new)\n",
    "step_info_list_new.sort(key=lambda x: x.location)\n",
    "\n",
    "new_y_2 = get_y_from_step_locations(step_info_list_new, new_y)"
   ]
  },
  {
   "cell_type": "code",
   "execution_count": 26,
   "id": "fc68ee98",
   "metadata": {},
   "outputs": [
    {
     "name": "stderr",
     "output_type": "stream",
     "text": [
      "C:\\Users\\CellphyLab\\AppData\\Local\\Temp\\ipykernel_14404\\3295757350.py:29: RuntimeWarning: overflow encountered in exp\n",
      "  y = L / (1 + np.exp(-k*(x-x0))) + b\n"
     ]
    }
   ],
   "source": [
    "step_info_list_new = []\n",
    "\n",
    "step_generator(x_data, new_y_2, step_info_list_new)\n",
    "step_info_list_new.sort(key=lambda x: x.location)\n",
    "\n",
    "new_y_3 = get_y_from_step_locations(step_info_list_new, new_y_2)"
   ]
  },
  {
   "cell_type": "code",
   "execution_count": 27,
   "id": "a6fc02b8",
   "metadata": {},
   "outputs": [
    {
     "name": "stdout",
     "output_type": "stream",
     "text": [
      "done\n"
     ]
    }
   ],
   "source": [
    "# w, k, y , m , c, r, g, b\n",
    "plt.plot(x_data,  y_data,    label=\"noise\")\n",
    "plt.plot(x_data,  steps_org, label=\"raw\")\n",
    "plt.plot(x_data,  new_y,     label=\"new over fit\")\n",
    "plt.plot(x_data,  new_y_2,   label=\"new over fit_2\")\n",
    "plt.plot(x_data,  new_y_3,   label=\"new over fit_2\")\n",
    "\n",
    "plt.grid()\n",
    "plt.legend()\n",
    "cursor(hover=True)\n",
    "plt.show()\n",
    "print(\"done\")"
   ]
  },
  {
   "cell_type": "code",
   "execution_count": 12,
   "id": "61e57d26",
   "metadata": {},
   "outputs": [
    {
     "name": "stderr",
     "output_type": "stream",
     "text": [
      "C:\\Users\\CellphyLab\\AppData\\Local\\Temp\\ipykernel_14404\\3295757350.py:29: RuntimeWarning: overflow encountered in exp\n",
      "  y = L / (1 + np.exp(-k*(x-x0))) + b\n"
     ]
    }
   ],
   "source": [
    "moving_avg_windows = 5\n",
    "moving_avg_y = moving_average(y_data, n=moving_avg_windows, pad=True)\n",
    "\n",
    "step_mv_info_list = []\n",
    "moving_avg_x = np.arange(0, len(moving_avg_y))\n",
    "\n",
    "plt.plot(moving_avg_x, moving_avg_y, '-g', label=f\"mv {moving_avg_windows}\")\n",
    "step_generator(moving_avg_x, moving_avg_y, step_mv_info_list)\n",
    "step_mv_info_list.sort(key=lambda x: x.location)\n",
    "\n",
    "mv_new_y = get_y_from_step_locations(step_mv_info_list, moving_avg_y)\n",
    "\n",
    "plt.plot(moving_avg_x, mv_new_y, '-r', label=f\"mv {moving_avg_windows}\")\n",
    "plt.legend()\n",
    "cursor(hover=True)\n",
    "plt.show()"
   ]
  },
  {
   "cell_type": "code",
   "execution_count": null,
   "id": "0d7a8106",
   "metadata": {},
   "outputs": [],
   "source": [
    "x=np.array([ 99, 100, 101, 102, 103, 104, 105, 106, 107, 108, 109, 110, 111,\n",
    "       112, 113, 114, 115, 116, 117, 118, 119, 120, 121, 122, 123, 124,\n",
    "       125, 126, 127, 128, 129, 130, 131, 132, 133, 134, 135, 136, 137,\n",
    "       138, 139, 140, 141, 142, 143, 144, 145, 146])\n",
    "y=np.array([127.9338085 , 108.19903961, 109.67804009, 105.45961098,\n",
    "        93.02300008, 107.86276493, 120.86184236, 104.13556522,\n",
    "       107.63626918, 106.50153184,  94.60625286, 104.14771736,\n",
    "       109.16253162,  85.80643318,  81.9700607 , 100.39570474,\n",
    "       103.84215196, 105.32569469, 113.34751294, 106.27081416,\n",
    "        98.88421804, 108.48661795,  96.29020384,  85.4859683 ,\n",
    "        95.12067085,  87.65852645,  90.55505851,  99.66192923,\n",
    "        89.90461327,  88.18697181,  93.55911515, 102.30148861,\n",
    "        98.90645805, 108.92554824, 119.2951933 , 105.35818738,\n",
    "        87.9751338 ,  79.04569404,  81.73565712,  87.29630745,\n",
    "        91.90870963,  92.31412478, 100.93253919,  99.96999548,\n",
    "        92.68726807, 101.53842752, 102.84918664,  94.52567477])\n",
    "plt.plot(x, y, '-r', label=\"test_data\", linewidth=2)\n",
    "# plt.plot(x_data, new_counter_y, '--r', label=\"new counter fit\", linewidth=1)\n",
    "plt.grid()\n",
    "plt.legend()\n",
    "cursor(hover=True)\n",
    "plt.show()"
   ]
  },
  {
   "cell_type": "code",
   "execution_count": null,
   "id": "d30f2356",
   "metadata": {},
   "outputs": [],
   "source": [
    "_stp=[]\n",
    "# step_generator(x, y, _stp)\n",
    "info = get_step_location_size(x, y)\n",
    "print(info)\n",
    "fit_y = _step_fun(x, info.step_size,info.location,info.stepness, info.b)\n",
    "# plt.plot(x, fit_y, '-g', label=\"test_fit\", linewidth=1)\n",
    "sre = y - fit_y\n",
    "print(sre)\n",
    "print(np.min(sre))\n",
    "print(np.where(sre == np.min(sre)))\n",
    "print(x[14])"
   ]
  },
  {
   "cell_type": "code",
   "execution_count": null,
   "id": "d6d0d2f6",
   "metadata": {},
   "outputs": [],
   "source": [
    "print(y[14])"
   ]
  },
  {
   "cell_type": "code",
   "execution_count": null,
   "id": "e7f3a639",
   "metadata": {},
   "outputs": [],
   "source": [
    "sre_2 = np.sqrt((y - fit_y)**2)\n",
    "print(sre_2)\n",
    "print(np.min(sre_2))\n",
    "print(np.where(sre_2 == np.min(sre_2)))\n",
    "print(x[7])"
   ]
  },
  {
   "cell_type": "code",
   "execution_count": null,
   "id": "8d6503b3",
   "metadata": {},
   "outputs": [],
   "source": [
    "np.min(np.sqrt(np.array( [-11.34911102,5.98798899,2.38755878,4.72899922,15.50491867\n",
    ",-0.80414862,-15.10318306,0.47297494,-4.04527297,-3.81078004\n",
    ",7.28803714,-2.95806697,-8.59628154,14.20829206,17.5567301\n",
    ",-1.30058842,-5.12893592,-6.95034304,-15.27106673,-8.45880623\n",
    ",-1.30615525,-11.11552307,0.89778976,11.54003867,1.76202942\n",
    ",9.09739306,6.08870052,-3.11739632,6.55213635,8.1921178\n",
    ",2.75127034,-6.05188413,-2.71062516,-12.77728584,-23.18901542\n",
    ",-9.28924068,8.06087536,16.96117606,14.24543435,8.6619783\n",
    ",4.02940045,3.60613638,-5.02806853,-4.07949429,3.19087468\n",
    ",-5.67121798,-6.99164943,1.32330557])**2))"
   ]
  },
  {
   "cell_type": "code",
   "execution_count": null,
   "id": "11971b0c",
   "metadata": {},
   "outputs": [],
   "source": []
  }
 ],
 "metadata": {
  "kernelspec": {
   "display_name": "Python 3 (ipykernel)",
   "language": "python",
   "name": "python3"
  },
  "language_info": {
   "codemirror_mode": {
    "name": "ipython",
    "version": 3
   },
   "file_extension": ".py",
   "mimetype": "text/x-python",
   "name": "python",
   "nbconvert_exporter": "python",
   "pygments_lexer": "ipython3",
   "version": "3.9.16"
  }
 },
 "nbformat": 4,
 "nbformat_minor": 5
}
