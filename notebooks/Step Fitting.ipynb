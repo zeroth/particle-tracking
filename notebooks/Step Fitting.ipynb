{
 "cells": [
  {
   "cell_type": "code",
   "execution_count": 20,
   "id": "23085a77",
   "metadata": {},
   "outputs": [],
   "source": [
    "%matplotlib qt\n",
    "import matplotlib.pyplot as plt\n",
    "import numpy as np\n",
    "from scipy.special import expit\n",
    "from scipy.optimize import curve_fit\n"
   ]
  },
  {
   "cell_type": "code",
   "execution_count": 21,
   "id": "174453b0",
   "metadata": {},
   "outputs": [],
   "source": [
    "def step_sim(step_size = 8.0, SNR = 0.5, total_time_point=400):\n",
    "    np.random.seed(20181118)\n",
    "    \n",
    "    steps = np.piecewise(np.arange(0, total_time_point), \n",
    "                            [\n",
    "                                np.arange(0, total_time_point) < 99, \n",
    "\n",
    "                                np.logical_and(np.arange(0, total_time_point) >= 99, np.arange(0, total_time_point) < 199), \n",
    "\n",
    "                                np.logical_and(np.arange(0, total_time_point) >= 199, np.arange(0, total_time_point) < 249), \n",
    "                                \n",
    "                                np.logical_and(np.arange(0, total_time_point) >= 249, np.arange(0, total_time_point) < 349), \n",
    "                                \n",
    "                                np.logical_and(np.arange(0, total_time_point) >= 349, np.arange(0, total_time_point) < 499), \n",
    "\n",
    "                                np.arange(0, total_time_point) >= 499\n",
    "                            ], \n",
    "                            [\n",
    "                                lambda x: 300, \n",
    "                                lambda x: 100, \n",
    "                                lambda x: 50, \n",
    "                                lambda x: 350,\n",
    "                                lambda x: 20,\n",
    "                                lambda x: 350,\n",
    "                            ])\n",
    "    x = np.arange(0, total_time_point)\n",
    "    noise_STD = step_size / SNR\n",
    "    noise = np.random.normal(scale=noise_STD, size=len(x))\n",
    "    # y = true_fct + np.random.standard_t(1, size=len(x))\n",
    "    y = steps + noise\n",
    "    return x, y, steps\n",
    "\n",
    "\n",
    "\n",
    "x_data, y_data , steps = step_sim(total_time_point=600)\n",
    "plt.plot(x_data, y_data, '-b', label=\"noise\")\n",
    "plt.plot(x_data, steps, '-r', linewidth=1, label=\"raw\")\n",
    "plt.grid()"
   ]
  },
  {
   "cell_type": "code",
   "execution_count": 22,
   "id": "7af59f02",
   "metadata": {},
   "outputs": [
    {
     "name": "stdout",
     "output_type": "stream",
     "text": [
      "StepInfo(step_size=-67.74641142337659, location=348, stepness=76.16289667023504, b=220.7618434328121)\n"
     ]
    },
    {
     "name": "stderr",
     "output_type": "stream",
     "text": [
      "C:\\Users\\CellphyLab\\AppData\\Local\\Temp\\ipykernel_20148\\1875578234.py:21: RuntimeWarning: overflow encountered in exp\n",
      "  y = step_size / (1 + np.exp(-stepness*(x-location))) + b\n",
      "C:\\Users\\CellphyLab\\.conda\\envs\\seg4d\\lib\\site-packages\\scipy\\optimize\\_minpack_py.py:906: OptimizeWarning: Covariance of the parameters could not be estimated\n",
      "  warnings.warn('Covariance of the parameters could not be estimated',\n"
     ]
    }
   ],
   "source": [
    "from scipy.optimize import curve_fit\n",
    "from dataclasses import dataclass\n",
    "\n",
    "@dataclass(repr=True)\n",
    "class StepInfo:\n",
    "    step_size:float\n",
    "    location:int\n",
    "    stepness:float\n",
    "    b:float\n",
    "    \n",
    "        \n",
    "# Heaviside step function\n",
    "# def step_fun(x,a,b,c): return a * (np.sign(x-b) + c)\n",
    "# p0=[np.max(y), np.median(x), np.min(y)]\n",
    "\n",
    "def _step_fun(x, step_size ,location, stepness, b):\n",
    "    # Logistic function\n",
    "    # f(X, L, x0, k, b)\n",
    "    # https://en.wikipedia.org/wiki/Logistic_function\n",
    "    # use for curve fitting\n",
    "    y = step_size / (1 + np.exp(-stepness*(x-location))) + b\n",
    "    return (y)\n",
    "\n",
    "def get_step_location_size(x, y):\n",
    "    p0=[np.max(y), np.median(x),1, np.min(y)]\n",
    "    popt, pcov, infodict, mesg, ier = curve_fit(_step_fun, x, y,p0=p0, full_output=True, maxfev = 1000000)\n",
    "    step_size , location, stepness, b = popt\n",
    "    \n",
    "    info = StepInfo(step_size , int(np.floor(location)), stepness, b)\n",
    "    return info\n",
    "\n",
    "info = get_step_location_size(x_data, y_data)\n",
    "print(info)\n",
    "# location, step_size, stepness, b, fitted_data = get_step_location_size(x_data, y_data)\n",
    "# print(f\"location:{location}, step_size:{step_size}, stepness:{stepness}, b:{b}\")\n",
    "# plt.plot(x_data, fitted_data, '-y', label=\"Fitted data\")"
   ]
  },
  {
   "cell_type": "code",
   "execution_count": 23,
   "id": "a6fc02b8",
   "metadata": {},
   "outputs": [
    {
     "name": "stdout",
     "output_type": "stream",
     "text": [
      "1\n",
      "2\n",
      "3\n",
      "4\n",
      "5\n",
      "6\n",
      "7\n",
      "7\n"
     ]
    },
    {
     "name": "stderr",
     "output_type": "stream",
     "text": [
      "C:\\Users\\CellphyLab\\AppData\\Local\\Temp\\ipykernel_20148\\1875578234.py:21: RuntimeWarning: overflow encountered in exp\n",
      "  y = step_size / (1 + np.exp(-stepness*(x-location))) + b\n"
     ]
    },
    {
     "name": "stdout",
     "output_type": "stream",
     "text": [
      "8\n",
      "9\n",
      "8\n",
      "7\n",
      "6\n",
      "6\n",
      "6\n",
      "5\n",
      "5\n",
      "6\n",
      "5\n",
      "4\n",
      "4\n",
      "4\n",
      "3\n",
      "2\n",
      "1\n"
     ]
    }
   ],
   "source": [
    "steps = []\n",
    "window_size_limit = 40\n",
    "counter=0\n",
    "windows_to_process = []\n",
    "\n",
    "\"\"\"\n",
    "def step_generator(x, y):\n",
    "    info = get_step_location_size(x, y)\n",
    "    steps.append(info)\n",
    "    \n",
    "    left_y = y[:info.location]\n",
    "    left_x = x[:info.location]\n",
    "    if len(left_y)>window_size_limit:\n",
    "        windows_to_process.append((left_x, left_y))\n",
    "        \n",
    "    right_y = y[info.location+1:]\n",
    "    right_x = x[info.location+1:]\n",
    "    \n",
    "    if len(right_y)>window_size_limit:\n",
    "        windows_to_process.append((right_x, right_y))\n",
    "        \n",
    "step_generator(x_data, y_data)\n",
    "\"\"\"\n",
    "windows_to_process.append((x_data,y_data))\n",
    "\n",
    "while len(windows_to_process):\n",
    "    print(len(windows_to_process))\n",
    "    p_x, p_y = windows_to_process.pop(0)\n",
    "    \n",
    "    info = get_step_location_size(p_x, p_y)\n",
    "    steps.append(info)\n",
    "    \n",
    "    location_index = np.where(p_x == info.location)[0][0]\n",
    "    \n",
    "    left_x = p_x[:location_index]\n",
    "    left_y = p_y[:location_index]\n",
    "    if len(left_y)>window_size_limit:\n",
    "        windows_to_process.append((left_x, left_y))\n",
    "        \n",
    "    right_x = p_x[location_index+1:]\n",
    "    right_y = p_y[location_index+1:]\n",
    "    if len(right_y)>window_size_limit:\n",
    "        windows_to_process.append((right_x, right_y))\n"
   ]
  },
  {
   "cell_type": "code",
   "execution_count": 24,
   "id": "39149f5d",
   "metadata": {},
   "outputs": [
    {
     "data": {
      "text/plain": [
       "[StepInfo(step_size=-67.74641142337659, location=348, stepness=76.16289667023504, b=220.7618434328121),\n",
       " StepInfo(step_size=181.27826442555556, location=248, stepness=22.144786646604118, b=168.83693340899046),\n",
       " StepInfo(step_size=332.73476921910554, location=498, stepness=18.565000989266633, b=19.0132525613254),\n",
       " StepInfo(step_size=-213.7385702186162, location=98, stepness=16.23983663299247, b=297.3901814746867),\n",
       " StepInfo(step_size=-2.15069227506997, location=291, stepness=15.858889061792143, b=351.17332903199105),\n",
       " StepInfo(step_size=-8.277207647430492, location=421, stepness=15.525871689286811, b=23.235234240619036),\n",
       " StepInfo(step_size=-4.419435670272838, location=511, stepness=-27.966249983686538, b=352.3168597483539),\n",
       " StepInfo(step_size=-6.324756432409051, location=44, stepness=16.175741691028016, b=300.73188450406536),\n",
       " StepInfo(step_size=-50.790616647195044, location=198, stepness=1.1487181997973956, b=100.78618098563375),\n",
       " StepInfo(step_size=-8.872529523532506, location=275, stepness=23.9010771520185, b=353.5776975214693),\n",
       " StepInfo(step_size=-7.632897508834161, location=327, stepness=14.60496285040751, b=351.7485724712916),\n",
       " StepInfo(step_size=-2.0091366127665973, location=381, stepness=11.213126616277805, b=24.264732787204046),\n",
       " StepInfo(step_size=-5.616853464820451, location=470, stepness=13.728371529881612, b=16.953405923847697),\n",
       " StepInfo(step_size=-14.824942192944484, location=586, stepness=17.152715643353776, b=354.57176674802935),\n",
       " StepInfo(step_size=9.050397365224308, location=21, stepness=24.527810066948096, b=295.90306725531144),\n",
       " StepInfo(step_size=30.725093375106933, location=93, stepness=11.166751155365992, b=292.0901164631009),\n",
       " StepInfo(step_size=1.3647646684711516, location=152, stepness=-15.177542296838428, b=99.84309178639522),\n",
       " StepInfo(step_size=-6.972170761385817, location=223, stepness=19.172541011373053, b=53.98662855048042),\n",
       " StepInfo(step_size=-4.853379995498605, location=450, stepness=17.654564712341337, b=18.763109737646417),\n",
       " StepInfo(step_size=5.059015444433653, location=556, stepness=15.327366152983924, b=352.58918823054097),\n",
       " StepInfo(step_size=6.097699564674777, location=46, stepness=18.368735360774455, b=286.28420791853074),\n",
       " StepInfo(step_size=-8.351158631135739, location=121, stepness=17.904647844586787, b=105.74045438879138),\n",
       " StepInfo(step_size=10.682230670712238, location=166, stepness=17.900602708915887, b=92.48401832713671),\n",
       " StepInfo(step_size=4.507128939160031, location=537, stepness=-16.408300736710494, b=350.350055152343),\n",
       " StepInfo(step_size=7.718116125482862, location=53, stepness=-16.43206597643009, b=291.20739069157963)]"
      ]
     },
     "execution_count": 24,
     "metadata": {},
     "output_type": "execute_result"
    }
   ],
   "source": [
    "steps"
   ]
  },
  {
   "cell_type": "code",
   "execution_count": 25,
   "id": "72ebdc66",
   "metadata": {},
   "outputs": [],
   "source": [
    "steps.sort(key=lambda x: x.location)\n"
   ]
  },
  {
   "cell_type": "code",
   "execution_count": 26,
   "id": "90303488",
   "metadata": {},
   "outputs": [
    {
     "data": {
      "text/plain": [
       "[StepInfo(step_size=9.050397365224308, location=21, stepness=24.527810066948096, b=295.90306725531144),\n",
       " StepInfo(step_size=-6.324756432409051, location=44, stepness=16.175741691028016, b=300.73188450406536),\n",
       " StepInfo(step_size=6.097699564674777, location=46, stepness=18.368735360774455, b=286.28420791853074),\n",
       " StepInfo(step_size=7.718116125482862, location=53, stepness=-16.43206597643009, b=291.20739069157963),\n",
       " StepInfo(step_size=30.725093375106933, location=93, stepness=11.166751155365992, b=292.0901164631009),\n",
       " StepInfo(step_size=-213.7385702186162, location=98, stepness=16.23983663299247, b=297.3901814746867),\n",
       " StepInfo(step_size=-8.351158631135739, location=121, stepness=17.904647844586787, b=105.74045438879138),\n",
       " StepInfo(step_size=1.3647646684711516, location=152, stepness=-15.177542296838428, b=99.84309178639522),\n",
       " StepInfo(step_size=10.682230670712238, location=166, stepness=17.900602708915887, b=92.48401832713671),\n",
       " StepInfo(step_size=-50.790616647195044, location=198, stepness=1.1487181997973956, b=100.78618098563375),\n",
       " StepInfo(step_size=-6.972170761385817, location=223, stepness=19.172541011373053, b=53.98662855048042),\n",
       " StepInfo(step_size=181.27826442555556, location=248, stepness=22.144786646604118, b=168.83693340899046),\n",
       " StepInfo(step_size=-8.872529523532506, location=275, stepness=23.9010771520185, b=353.5776975214693),\n",
       " StepInfo(step_size=-2.15069227506997, location=291, stepness=15.858889061792143, b=351.17332903199105),\n",
       " StepInfo(step_size=-7.632897508834161, location=327, stepness=14.60496285040751, b=351.7485724712916),\n",
       " StepInfo(step_size=-67.74641142337659, location=348, stepness=76.16289667023504, b=220.7618434328121),\n",
       " StepInfo(step_size=-2.0091366127665973, location=381, stepness=11.213126616277805, b=24.264732787204046),\n",
       " StepInfo(step_size=-8.277207647430492, location=421, stepness=15.525871689286811, b=23.235234240619036),\n",
       " StepInfo(step_size=-4.853379995498605, location=450, stepness=17.654564712341337, b=18.763109737646417),\n",
       " StepInfo(step_size=-5.616853464820451, location=470, stepness=13.728371529881612, b=16.953405923847697),\n",
       " StepInfo(step_size=332.73476921910554, location=498, stepness=18.565000989266633, b=19.0132525613254),\n",
       " StepInfo(step_size=-4.419435670272838, location=511, stepness=-27.966249983686538, b=352.3168597483539),\n",
       " StepInfo(step_size=4.507128939160031, location=537, stepness=-16.408300736710494, b=350.350055152343),\n",
       " StepInfo(step_size=5.059015444433653, location=556, stepness=15.327366152983924, b=352.58918823054097),\n",
       " StepInfo(step_size=-14.824942192944484, location=586, stepness=17.152715643353776, b=354.57176674802935)]"
      ]
     },
     "execution_count": 26,
     "metadata": {},
     "output_type": "execute_result"
    }
   ],
   "source": [
    "steps"
   ]
  },
  {
   "cell_type": "code",
   "execution_count": null,
   "id": "34c0c1dc",
   "metadata": {},
   "outputs": [],
   "source": []
  }
 ],
 "metadata": {
  "kernelspec": {
   "display_name": "Python 3 (ipykernel)",
   "language": "python",
   "name": "python3"
  },
  "language_info": {
   "codemirror_mode": {
    "name": "ipython",
    "version": 3
   },
   "file_extension": ".py",
   "mimetype": "text/x-python",
   "name": "python",
   "nbconvert_exporter": "python",
   "pygments_lexer": "ipython3",
   "version": "3.9.16"
  }
 },
 "nbformat": 4,
 "nbformat_minor": 5
}
