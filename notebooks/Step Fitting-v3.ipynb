{
 "cells": [
  {
   "cell_type": "markdown",
   "id": "4c827bff",
   "metadata": {},
   "source": [
    "Notes\n",
    "    \n",
    "        \n",
    "- Heaviside step function\n",
    "- def step_fun(x,a,b,c): return a * (np.sign(x-b) + c)\n",
    "- p0=[np.max(y), np.median(x), np.min(y)]\n"
   ]
  },
  {
   "cell_type": "code",
   "execution_count": 41,
   "id": "23085a77",
   "metadata": {},
   "outputs": [
    {
     "name": "stdout",
     "output_type": "stream",
     "text": [
      "done\n"
     ]
    }
   ],
   "source": [
    "%matplotlib qt\n",
    "import matplotlib.pyplot as plt\n",
    "import numpy as np\n",
    "from scipy.special import expit\n",
    "from scipy.optimize import curve_fit\n",
    "# from mplcursors import cursor\n",
    "from dataclasses import dataclass\n",
    "import copy\n",
    "print(\"done\")"
   ]
  },
  {
   "cell_type": "code",
   "execution_count": 42,
   "id": "174453b0",
   "metadata": {},
   "outputs": [
    {
     "name": "stdout",
     "output_type": "stream",
     "text": [
      "done\n"
     ]
    }
   ],
   "source": [
    "def step_sim_v1(step_size = 8.0, SNR = 0.5, total_time_point=400):\n",
    "    np.random.seed(20181118)\n",
    "    \n",
    "    steps = np.piecewise(np.arange(0, total_time_point), \n",
    "                            [\n",
    "                                np.arange(0, total_time_point) < 99, \n",
    "\n",
    "                                np.logical_and(np.arange(0, total_time_point) >= 99, np.arange(0, total_time_point) < 199), \n",
    "\n",
    "                                np.logical_and(np.arange(0, total_time_point) >= 199, np.arange(0, total_time_point) < 249), \n",
    "                                \n",
    "                                np.logical_and(np.arange(0, total_time_point) >= 249, np.arange(0, total_time_point) < 349), \n",
    "                                \n",
    "                                np.logical_and(np.arange(0, total_time_point) >= 349, np.arange(0, total_time_point) < 499), \n",
    "\n",
    "                                np.arange(0, total_time_point) >= 499\n",
    "                            ], \n",
    "                            [\n",
    "                                lambda x: 300, \n",
    "                                lambda x: 100, \n",
    "                                lambda x: 50, \n",
    "                                lambda x: 350,\n",
    "                                lambda x: 20,\n",
    "                                lambda x: 350,\n",
    "                            ])\n",
    "    x = np.arange(0, total_time_point)\n",
    "    noise_STD = step_size / SNR\n",
    "    noise = np.random.normal(scale=noise_STD, size=len(x))\n",
    "    # y = true_fct + np.random.standard_t(1, size=len(x))\n",
    "    y = steps + noise\n",
    "    return x, y, steps\n",
    "\n",
    "def step_sim_v2(step_size = 8.0, SNR = 0.5, total_time_point=400):\n",
    "    np.random.seed(20181118)\n",
    "    \n",
    "    steps = np.piecewise(np.arange(0, total_time_point), \n",
    "                            [\n",
    "                                np.arange(0, total_time_point) < 99, \n",
    "\n",
    "                                np.logical_and(np.arange(0, total_time_point) >= 99, np.arange(0, total_time_point) < 199), \n",
    "\n",
    "                                np.logical_and(np.arange(0, total_time_point) >= 199, np.arange(0, total_time_point) < 249), \n",
    "                                \n",
    "                                np.logical_and(np.arange(0, total_time_point) >= 249, np.arange(0, total_time_point) < 349), \n",
    "                                \n",
    "                                np.logical_and(np.arange(0, total_time_point) >= 349, np.arange(0, total_time_point) < 499), \n",
    "\n",
    "                                np.arange(0, total_time_point) >= 499\n",
    "                            ], \n",
    "                            [\n",
    "                                lambda x: 600, \n",
    "                                lambda x: 600 - ((x+1)%100), \n",
    "                                lambda x: 500 - ((x+1)%200), \n",
    "                                lambda x: 400 - ((x+1)%300),\n",
    "                                lambda x: 300 - ((x+1)%400),\n",
    "                                lambda x: 200 - ((x+1)%500),\n",
    "                            ])\n",
    "    x = np.arange(0, total_time_point)\n",
    "    noise_STD = step_size / SNR\n",
    "    noise = np.random.normal(scale=noise_STD, size=len(x))\n",
    "    # y = true_fct + np.random.standard_t(1, size=len(x))\n",
    "    y = steps + noise\n",
    "    return x, y, steps\n",
    "\n",
    "def step_sim_v3(step_size = 8.0, SNR = 0.5, total_time_point=400):\n",
    "    np.random.seed(20181118)\n",
    "    \n",
    "    steps = np.piecewise(np.arange(0, total_time_point), \n",
    "                            [\n",
    "                                np.arange(0, total_time_point) < 99, \n",
    "\n",
    "                                np.logical_and(np.arange(0, total_time_point) >= 99, np.arange(0, total_time_point) < 199), \n",
    "\n",
    "                                np.logical_and(np.arange(0, total_time_point) >= 199, np.arange(0, total_time_point) < 249), \n",
    "                                \n",
    "                                np.logical_and(np.arange(0, total_time_point) >= 249, np.arange(0, total_time_point) < 349), \n",
    "                                \n",
    "                                np.logical_and(np.arange(0, total_time_point) >= 349, np.arange(0, total_time_point) < 499), \n",
    "\n",
    "                                np.arange(0, total_time_point) >= 499\n",
    "                            ], \n",
    "                            [\n",
    "                                lambda x: 600, \n",
    "                                lambda x: 500, \n",
    "                                lambda x: 400 , \n",
    "                                lambda x: 300 ,\n",
    "                                lambda x: 200 ,\n",
    "                                lambda x: 100 ,\n",
    "                            ])\n",
    "    x = np.arange(0, total_time_point)\n",
    "    noise_STD = step_size / SNR\n",
    "    noise = np.random.normal(scale=noise_STD, size=len(x))\n",
    "    # y = true_fct + np.random.standard_t(1, size=len(x))\n",
    "    y = steps + noise\n",
    "    return x, y, steps\n",
    "print(\"done\")"
   ]
  },
  {
   "cell_type": "code",
   "execution_count": 129,
   "id": "7af59f02",
   "metadata": {},
   "outputs": [
    {
     "name": "stdout",
     "output_type": "stream",
     "text": [
      "done\n"
     ]
    }
   ],
   "source": [
    "# Unit Functions\n",
    "@dataclass(repr=True)\n",
    "class FitInfo:\n",
    "    fit_params: list\n",
    "    y_fit:np.ndarray\n",
    "    x:np.ndarray = None\n",
    "    y:np.ndarray = None\n",
    "\n",
    "@dataclass(repr=True)\n",
    "class Locations:\n",
    "    x_indices:list\n",
    "    y_indices:list\n",
    "        \n",
    "@dataclass(repr=True)\n",
    "class Height:\n",
    "    height:float\n",
    "    location:int\n",
    "\n",
    "        \n",
    "def moving_average(a, n=2, pad=False) :\n",
    "    if pad:\n",
    "        a = np.pad(a, (n-1,0))\n",
    "    ret = np.cumsum(a, dtype=float)\n",
    "    ret[n:] = ret[n:] - ret[:-n]\n",
    "    return ret[n - 1:] / n\n",
    "\n",
    "def _step_fun_logistic_v2(x, amplitude=1.0, center=0.0, sigma=1.0):\n",
    "    tiny = 1.0e-15\n",
    "    # ymin, ymax = min(data), max(data)\n",
    "    # xmin, xmax = min(x), max(x)\n",
    "    # pars = self.make_params(amplitude=(ymax-ymin),\n",
    "    #                          center=(xmax+xmin)/2.0)\n",
    "    # pars[f'{self.prefix}sigma'].set(value=(xmax-xmin)/7.0, min=0.0)\n",
    "    out = (x - center)/max(tiny, sigma)\n",
    "    out = 1. - 1./(1. + np.exp(out))\n",
    "    return amplitude*out\n",
    "    \n",
    "    \n",
    "def _step_fun_logistic(x, L ,x0, k, b):\n",
    "    # Logistic function\n",
    "    # f(X, L, x0, k, b)\n",
    "    # https://en.wikipedia.org/wiki/Logistic_function\n",
    "    # use for curve fitting\n",
    "    # https://stackoverflow.com/questions/55725139/fit-sigmoid-function-s-shape-curve-to-data-using-python\n",
    "    # #p0=[np.max(y), np.median(x), 1, np.min(y)]\n",
    "    y = L / (1 + np.exp(-k*(x-x0))) + b\n",
    "        #amplitude*(1. - 1./(1. + exp((x-center)/max(tiny, sigma))))\n",
    "    return y\n",
    "\n",
    "def _step_fun_heaviside(x, a, b, c): \n",
    "    #p0=[np.max(y), np.median(x), np.min(y)]\n",
    "    return a * (np.sign(x-b) + c)\n",
    "\n",
    "def fit(x, y, fun, p0, get_data=False):\n",
    "    popt, pcov, infodict, mesg, ier = curve_fit(fun, x, y,p0=p0, full_output=True, maxfev = 1000000)\n",
    "    y_fit = fun(x, *popt)\n",
    "    info = FitInfo(fit_params=popt, y_fit=y_fit)\n",
    "    if get_data:\n",
    "        info.x = x\n",
    "        info.y = y\n",
    "        \n",
    "    return info\n",
    "\n",
    "def get_step_locations(x, y):\n",
    "    uniques, y_indices, counts = np.unique(y, return_counts=True, return_index=True)\n",
    "    x_indices = [ x[i] for i in y_indices ]\n",
    "    return Locations(x_indices=x_indices, y_indices=list(y_indices))\n",
    "\n",
    "def get_window_heights(x, y, locations:Locations):\n",
    "    heights = []\n",
    "    y_locations = copy.deepcopy(locations.y_indices)\n",
    "    y_locations.sort()\n",
    "    \n",
    "    previous_loc = y_locations.pop(0)\n",
    "    if previous_loc == 0:\n",
    "        previous_loc = y_locations.pop(0)\n",
    "        \n",
    "    previous_mean = np.mean(y[0:previous_loc+1])\n",
    "    \n",
    "    while len(y_locations):\n",
    "        next_loc = y_locations.pop(0)\n",
    "        current_mean = np.mean(y[previous_loc+1: next_loc+1])\n",
    "        \n",
    "        height = abs(previous_mean - current_mean)\n",
    "        heights.append(Height(height=height, location=previous_loc))\n",
    "        \n",
    "        previous_loc = next_loc\n",
    "        previous_mean = current_mean\n",
    "        \n",
    "    if previous_loc != (len(y)-1):\n",
    "        current_mean = np.mean(y[previous_loc+1: ])\n",
    "        height = abs(previous_mean - current_mean)\n",
    "        heights.append(Height(height=height, location=previous_loc))\n",
    "        \n",
    "    return heights\n",
    "        \n",
    "    \n",
    "    \n",
    "    \n",
    "    \n",
    "\n",
    "print(\"done\")"
   ]
  },
  {
   "cell_type": "code",
   "execution_count": 130,
   "id": "52153d0f",
   "metadata": {},
   "outputs": [],
   "source": [
    "# Exe Functions\n"
   ]
  },
  {
   "cell_type": "code",
   "execution_count": 131,
   "id": "0e628baf",
   "metadata": {},
   "outputs": [],
   "source": [
    "# x_data, y_data , steps_org = step_sim_v2(total_time_point=1000, max_signal=2000)\n",
    "x_data, y_data , steps_org = step_sim_v3(total_time_point=600)\n"
   ]
  },
  {
   "cell_type": "code",
   "execution_count": 132,
   "id": "300e3b22",
   "metadata": {},
   "outputs": [
    {
     "name": "stderr",
     "output_type": "stream",
     "text": [
      "C:\\Users\\Zeroth\\AppData\\Local\\Temp\\ipykernel_25220\\3619110770.py:46: RuntimeWarning: overflow encountered in exp\n",
      "  y = L / (1 + np.exp(-k*(x-x0))) + b\n"
     ]
    }
   ],
   "source": [
    "# ymin, ymax = min(y_data), max(y_data)\n",
    "# xmin, xmax = min(x_data), max(x_data)\n",
    "# amplitude=(ymax-ymin)\n",
    "# center=(xmax+xmin)/2.0\n",
    "# sigma =(xmax-xmin)/7.0\n",
    "# p0 = [amplitude, center, sigma]\n",
    "p0=[np.max(y_data), np.median(x_data), 1, np.min(y_data)]\n",
    "info = fit(x_data, y_data, _step_fun_logistic, p0=p0)"
   ]
  },
  {
   "cell_type": "code",
   "execution_count": 133,
   "id": "5a022bcf",
   "metadata": {},
   "outputs": [
    {
     "data": {
      "text/plain": [
       "[<matplotlib.lines.Line2D at 0x25a87e1dee0>]"
      ]
     },
     "execution_count": 133,
     "metadata": {},
     "output_type": "execute_result"
    }
   ],
   "source": [
    "plt.plot(x_data, y_data)\n",
    "plt.plot(x_data, info.y_fit)\n"
   ]
  },
  {
   "cell_type": "code",
   "execution_count": 134,
   "id": "f90e99ef",
   "metadata": {},
   "outputs": [],
   "source": [
    "# np.unique(info.y_fit,return_counts=True, return_index=True)"
   ]
  },
  {
   "cell_type": "code",
   "execution_count": 135,
   "id": "6e8e276a",
   "metadata": {},
   "outputs": [],
   "source": [
    "location_r1 = get_step_locations(x_data, info.y_fit)\n",
    "heights = get_window_heights(x_data, y_data, location_r1)\n",
    "hh = np.zeros(y_data.shape)\n",
    "# print(heights)\n",
    "# print(location_r1)"
   ]
  },
  {
   "cell_type": "code",
   "execution_count": 136,
   "id": "d6644770",
   "metadata": {},
   "outputs": [
    {
     "data": {
      "text/plain": [
       "[<matplotlib.lines.Line2D at 0x25a84eb37c0>]"
      ]
     },
     "execution_count": 136,
     "metadata": {},
     "output_type": "execute_result"
    }
   ],
   "source": [
    "for h in heights:\n",
    "    hh[h.location] = h.height\n",
    "plt.plot(np.arange(len(hh)), hh)"
   ]
  },
  {
   "cell_type": "code",
   "execution_count": 137,
   "id": "45fd33f6",
   "metadata": {},
   "outputs": [
    {
     "data": {
      "text/plain": [
       "array([-6.39243508e+02,  2.32333549e+02,  8.04654018e-03,  7.11327732e+02])"
      ]
     },
     "execution_count": 137,
     "metadata": {},
     "output_type": "execute_result"
    }
   ],
   "source": [
    "info.fit_params"
   ]
  },
  {
   "cell_type": "code",
   "execution_count": 39,
   "id": "35b1ff0e",
   "metadata": {},
   "outputs": [
    {
     "data": {
      "text/plain": [
       "[<matplotlib.lines.Line2D at 0x25ae346d3d0>]"
      ]
     },
     "execution_count": 39,
     "metadata": {},
     "output_type": "execute_result"
    }
   ],
   "source": [
    "plt.plot(np.arange(len(_h)), _h)"
   ]
  },
  {
   "cell_type": "code",
   "execution_count": 40,
   "id": "00d252f0",
   "metadata": {},
   "outputs": [
    {
     "data": {
      "text/plain": [
       "137.05045641773296"
      ]
     },
     "execution_count": 40,
     "metadata": {},
     "output_type": "execute_result"
    }
   ],
   "source": [
    "np.max(_h)"
   ]
  },
  {
   "cell_type": "code",
   "execution_count": 78,
   "id": "aaecf023",
   "metadata": {},
   "outputs": [],
   "source": [
    "plt.grid()"
   ]
  },
  {
   "cell_type": "code",
   "execution_count": 80,
   "id": "578e6a8f",
   "metadata": {},
   "outputs": [
    {
     "data": {
      "text/plain": [
       "600"
      ]
     },
     "execution_count": 80,
     "metadata": {},
     "output_type": "execute_result"
    }
   ],
   "source": [
    "len(x_data)"
   ]
  },
  {
   "cell_type": "code",
   "execution_count": 81,
   "id": "620e5da1",
   "metadata": {},
   "outputs": [
    {
     "data": {
      "text/plain": [
       "598"
      ]
     },
     "execution_count": 81,
     "metadata": {},
     "output_type": "execute_result"
    }
   ],
   "source": [
    "len(_h)"
   ]
  },
  {
   "cell_type": "code",
   "execution_count": 90,
   "id": "6ed40ad2",
   "metadata": {},
   "outputs": [
    {
     "name": "stderr",
     "output_type": "stream",
     "text": [
      "C:\\Users\\Zeroth\\AppData\\Local\\Temp\\ipykernel_25220\\3619110770.py:46: RuntimeWarning: overflow encountered in exp\n",
      "  y = L / (1 + np.exp(-k*(x-x0))) + b\n"
     ]
    }
   ],
   "source": [
    "part_1 = y_data[0:100]\n",
    "part_x = np.arange(len(part_1))\n",
    "p0=[np.max(part_1), np.median(part_x), 1, np.min(part_1)]\n",
    "info_1 = fit(part_x, part_1, _step_fun_logistic, p0=p0)\n",
    "location_r1 = get_step_locations(part_x, info_1.y_fit)\n",
    "heights = get_window_heights(part_x, part_1, location_r1)\n",
    "_h = [h.height for h in heights]"
   ]
  },
  {
   "cell_type": "code",
   "execution_count": 91,
   "id": "b73117bf",
   "metadata": {},
   "outputs": [],
   "source": [
    "plt.plot(part_x, part_1, label=\"s\")\n",
    "plt.plot(part_x, info_1.y_fit, label=\"f\")\n",
    "plt.plot(np.arange(len(_h)), _h, label=\"h\")\n",
    "plt.legend()\n",
    "plt.grid()"
   ]
  },
  {
   "cell_type": "code",
   "execution_count": 88,
   "id": "f6448d11",
   "metadata": {},
   "outputs": [
    {
     "data": {
      "text/plain": [
       "600"
      ]
     },
     "execution_count": 88,
     "metadata": {},
     "output_type": "execute_result"
    }
   ],
   "source": [
    "len(info_1.y_fit)"
   ]
  },
  {
   "cell_type": "code",
   "execution_count": 94,
   "id": "0b035cea",
   "metadata": {},
   "outputs": [
    {
     "data": {
      "text/plain": [
       "294.27540308142073"
      ]
     },
     "execution_count": 94,
     "metadata": {},
     "output_type": "execute_result"
    }
   ],
   "source": [
    "np.std(part_1)**2"
   ]
  },
  {
   "cell_type": "code",
   "execution_count": 93,
   "id": "3753f51e",
   "metadata": {},
   "outputs": [
    {
     "data": {
      "text/plain": [
       "16.248045367450118"
      ]
     },
     "execution_count": 93,
     "metadata": {},
     "output_type": "execute_result"
    }
   ],
   "source": [
    "np.max(_h)"
   ]
  },
  {
   "cell_type": "code",
   "execution_count": 6,
   "id": "311e883e",
   "metadata": {},
   "outputs": [],
   "source": [
    "from typing import Any\n",
    "class Parameters:\n",
    "\n",
    "    def __getattr__(self, name):\n",
    "        raise AttributeError(\"%r object has no attribute %r\" % (self.__class__.__name__, name))\n",
    "    \n",
    "    def __setattr__(self, __name: str, __value: Any) -> None:\n",
    "        self.__dict__[__name] = __value\n"
   ]
  },
  {
   "cell_type": "code",
   "execution_count": 7,
   "id": "b27e4e5c",
   "metadata": {},
   "outputs": [
    {
     "name": "stdout",
     "output_type": "stream",
     "text": [
      "20\n"
     ]
    }
   ],
   "source": [
    "a = Parameters()\n",
    "a.init = 10\n",
    "a.something = 20\n",
    "print(a.something)"
   ]
  },
  {
   "cell_type": "code",
   "execution_count": 8,
   "id": "0c2986cc",
   "metadata": {},
   "outputs": [
    {
     "data": {
      "text/plain": [
       "10"
      ]
     },
     "execution_count": 8,
     "metadata": {},
     "output_type": "execute_result"
    }
   ],
   "source": [
    "a.init"
   ]
  },
  {
   "cell_type": "code",
   "execution_count": null,
   "id": "6381f651",
   "metadata": {},
   "outputs": [],
   "source": []
  }
 ],
 "metadata": {
  "kernelspec": {
   "display_name": "Python 3 (ipykernel)",
   "language": "python",
   "name": "python3"
  },
  "language_info": {
   "codemirror_mode": {
    "name": "ipython",
    "version": 3
   },
   "file_extension": ".py",
   "mimetype": "text/x-python",
   "name": "python",
   "nbconvert_exporter": "python",
   "pygments_lexer": "ipython3",
   "version": "3.9.16"
  }
 },
 "nbformat": 4,
 "nbformat_minor": 5
}
